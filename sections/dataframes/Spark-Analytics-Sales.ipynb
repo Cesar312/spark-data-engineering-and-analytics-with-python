{
 "cells": [
  {
   "cell_type": "markdown",
   "metadata": {},
   "source": [
    "# Spark: Sales Analytics"
   ]
  },
  {
   "cell_type": "markdown",
   "metadata": {},
   "source": [
    "## Import Modules"
   ]
  },
  {
   "cell_type": "code",
   "execution_count": 104,
   "metadata": {},
   "outputs": [],
   "source": [
    "from pyspark.sql import SparkSession\n",
    "from pyspark.sql.types import StructType, StructField, StringType, IntegerType, FloatType\n",
    "from pyspark.sql.functions import col, expr, split, trim, to_timestamp, round, year, month, hour, count, sum, collect_list, size\n",
    "\n",
    "import os\n",
    "import zipfile\n",
    "\n",
    "import pandas as pd\n",
    "import matplotlib.pyplot as plt\n",
    "import seaborn as sns"
   ]
  },
  {
   "cell_type": "markdown",
   "metadata": {},
   "source": [
    "## Part 1: Import Data Set and Create DataFrame"
   ]
  },
  {
   "cell_type": "markdown",
   "metadata": {},
   "source": [
    "### Initiate Session"
   ]
  },
  {
   "cell_type": "code",
   "execution_count": 2,
   "metadata": {},
   "outputs": [
    {
     "name": "stdout",
     "output_type": "stream",
     "text": [
      "25/03/11 09:48:13 WARN Utils: Your hostname, Cesars-MBP.local resolves to a loopback address: 127.0.0.1; using 192.168.7.230 instead (on interface en0)\n",
      "25/03/11 09:48:13 WARN Utils: Set SPARK_LOCAL_IP if you need to bind to another address\n"
     ]
    },
    {
     "name": "stderr",
     "output_type": "stream",
     "text": [
      "Setting default log level to \"WARN\".\n",
      "To adjust logging level use sc.setLogLevel(newLevel). For SparkR, use setLogLevel(newLevel).\n"
     ]
    },
    {
     "name": "stdout",
     "output_type": "stream",
     "text": [
      "25/03/11 09:48:14 WARN NativeCodeLoader: Unable to load native-hadoop library for your platform... using builtin-java classes where applicable\n"
     ]
    }
   ],
   "source": [
    "spark = SparkSession.builder.appName(\"SparkAnalyticsSales\").getOrCreate()"
   ]
  },
  {
   "cell_type": "markdown",
   "metadata": {},
   "source": [
    "### Components for DataFrame"
   ]
  },
  {
   "cell_type": "code",
   "execution_count": 3,
   "metadata": {},
   "outputs": [],
   "source": [
    "schema = StructType([\n",
    "    StructField(\"Order ID\", StringType(), True),\n",
    "    StructField(\"Product\", StringType(), True),\n",
    "    StructField(\"Quantity Ordered\", StringType(), True),\n",
    "    StructField(\"Price Each\", StringType(), True),\n",
    "    StructField(\"Order Date\", StringType(), True),\n",
    "    StructField(\"Purchase Address\", StringType(), True)\n",
    "])"
   ]
  },
  {
   "cell_type": "code",
   "execution_count": 4,
   "metadata": {},
   "outputs": [],
   "source": [
    "# Define path and file name\n",
    "directory_path = \"../../data/input\"\n",
    "file_name = \"salesdata.zip\""
   ]
  },
  {
   "cell_type": "code",
   "execution_count": 5,
   "metadata": {},
   "outputs": [
    {
     "name": "stdout",
     "output_type": "stream",
     "text": [
      "Extraction complete. Files extracted to: ../../data/input/salesdata\n"
     ]
    }
   ],
   "source": [
    "# Create full path for the zip file\n",
    "zip_file_path = os.path.join(directory_path, file_name)\n",
    "\n",
    "# Create extraction directory\n",
    "extraction_directory = os.path.join(directory_path, os.path.splitext(file_name)[0])\n",
    "\n",
    "# Confirm the extraction directory exists\n",
    "os.makedirs(extraction_directory, exist_ok=True)\n",
    "\n",
    "# Open the zip file and extract the contents\n",
    "with zipfile.ZipFile(zip_file_path, \"r\") as zip_ref:\n",
    "    zip_ref.extractall(extraction_directory)\n",
    "\n",
    "print(f\"Extraction complete. Files extracted to: {extraction_directory}\")"
   ]
  },
  {
   "cell_type": "code",
   "execution_count": 6,
   "metadata": {},
   "outputs": [],
   "source": [
    "sales_data_df = (spark.read\n",
    "                .option(\"header\", \"true\")\n",
    "                .schema(schema)\n",
    "                .csv(f\"{extraction_directory}/*.csv\"))"
   ]
  },
  {
   "cell_type": "code",
   "execution_count": 7,
   "metadata": {},
   "outputs": [
    {
     "name": "stdout",
     "output_type": "stream",
     "text": [
      "+--------+--------------------+----------------+----------+--------------+--------------------+\n",
      "|Order ID|             Product|Quantity Ordered|Price Each|    Order Date|    Purchase Address|\n",
      "+--------+--------------------+----------------+----------+--------------+--------------------+\n",
      "|  295665|  Macbook Pro Laptop|               1|      1700|12/30/19 00:01|136 Church St, Ne...|\n",
      "|  295666|  LG Washing Machine|               1|     600.0|12/29/19 07:03|562 2nd St, New Y...|\n",
      "|  295667|USB-C Charging Cable|               1|     11.95|12/12/19 18:21|277 Main St, New ...|\n",
      "|  295668|    27in FHD Monitor|               1|    149.99|12/22/19 15:13|410 6th St, San F...|\n",
      "|  295669|USB-C Charging Cable|               1|     11.95|12/18/19 12:38|43 Hill St, Atlan...|\n",
      "|  295670|AA Batteries (4-p...|               1|      3.84|12/31/19 22:58|200 Jefferson St,...|\n",
      "|  295671|USB-C Charging Cable|               1|     11.95|12/16/19 15:10|928 12th St, Port...|\n",
      "|  295672|USB-C Charging Cable|               2|     11.95|12/13/19 09:29|813 Hickory St, D...|\n",
      "|  295673|Bose SoundSport H...|               1|     99.99|12/15/19 23:26|718 Wilson St, Da...|\n",
      "|  295674|AAA Batteries (4-...|               4|      2.99|12/28/19 11:51|77 7th St, Dallas...|\n",
      "+--------+--------------------+----------------+----------+--------------+--------------------+\n",
      "only showing top 10 rows\n",
      "\n"
     ]
    },
    {
     "name": "stderr",
     "output_type": "stream",
     "text": [
      "                                                                                \r"
     ]
    }
   ],
   "source": [
    "sales_data_df.show(10)"
   ]
  },
  {
   "cell_type": "code",
   "execution_count": 8,
   "metadata": {},
   "outputs": [
    {
     "name": "stdout",
     "output_type": "stream",
     "text": [
      "root\n",
      " |-- Order ID: string (nullable = true)\n",
      " |-- Product: string (nullable = true)\n",
      " |-- Quantity Ordered: string (nullable = true)\n",
      " |-- Price Each: string (nullable = true)\n",
      " |-- Order Date: string (nullable = true)\n",
      " |-- Purchase Address: string (nullable = true)\n",
      "\n"
     ]
    }
   ],
   "source": [
    "sales_data_df.printSchema()"
   ]
  },
  {
   "cell_type": "code",
   "execution_count": 9,
   "metadata": {},
   "outputs": [
    {
     "data": {
      "text/plain": [
       "186850"
      ]
     },
     "execution_count": 9,
     "metadata": {},
     "output_type": "execute_result"
    }
   ],
   "source": [
    "sales_data_df.count()"
   ]
  },
  {
   "cell_type": "markdown",
   "metadata": {},
   "source": [
    "## Part 2: Data Preparation and Cleaning"
   ]
  },
  {
   "cell_type": "markdown",
   "metadata": {},
   "source": [
    "### Remove All Rows with `NULL` Values and Bad Records"
   ]
  },
  {
   "cell_type": "code",
   "execution_count": 10,
   "metadata": {},
   "outputs": [
    {
     "name": "stdout",
     "output_type": "stream",
     "text": [
      "+--------+-------+----------------+----------+----------+----------------+\n",
      "|Order ID|Product|Quantity Ordered|Price Each|Order Date|Purchase Address|\n",
      "+--------+-------+----------------+----------+----------+----------------+\n",
      "|    null|   null|            null|      null|      null|            null|\n",
      "|    null|   null|            null|      null|      null|            null|\n",
      "|    null|   null|            null|      null|      null|            null|\n",
      "|    null|   null|            null|      null|      null|            null|\n",
      "|    null|   null|            null|      null|      null|            null|\n",
      "+--------+-------+----------------+----------+----------+----------------+\n",
      "only showing top 5 rows\n",
      "\n"
     ]
    }
   ],
   "source": [
    "sales_data_df.filter(col(\"Order ID\").isNull() == True).show(5)"
   ]
  },
  {
   "cell_type": "code",
   "execution_count": 11,
   "metadata": {},
   "outputs": [
    {
     "name": "stdout",
     "output_type": "stream",
     "text": [
      "+--------+-------+----------------+----------+----------+----------------+\n",
      "|Order ID|Product|Quantity Ordered|Price Each|Order Date|Purchase Address|\n",
      "+--------+-------+----------------+----------+----------+----------------+\n",
      "|Order ID|Product|Quantity Ordered|Price Each|Order Date|Purchase Address|\n",
      "|Order ID|Product|Quantity Ordered|Price Each|Order Date|Purchase Address|\n",
      "|Order ID|Product|Quantity Ordered|Price Each|Order Date|Purchase Address|\n",
      "|Order ID|Product|Quantity Ordered|Price Each|Order Date|Purchase Address|\n",
      "|Order ID|Product|Quantity Ordered|Price Each|Order Date|Purchase Address|\n",
      "+--------+-------+----------------+----------+----------+----------------+\n",
      "only showing top 5 rows\n",
      "\n"
     ]
    }
   ],
   "source": [
    "sales_data_df.filter(col(\"Order ID\") == \"Order ID\").show(5)"
   ]
  },
  {
   "cell_type": "code",
   "execution_count": 12,
   "metadata": {},
   "outputs": [
    {
     "name": "stdout",
     "output_type": "stream",
     "text": [
      "+--------+-------+----------------+----------+----------+----------------+\n",
      "|Order ID|Product|Quantity Ordered|Price Each|Order Date|Purchase Address|\n",
      "+--------+-------+----------------+----------+----------+----------------+\n",
      "|Order ID|Product|Quantity Ordered|Price Each|Order Date|Purchase Address|\n",
      "|Order ID|Product|Quantity Ordered|Price Each|Order Date|Purchase Address|\n",
      "|Order ID|Product|Quantity Ordered|Price Each|Order Date|Purchase Address|\n",
      "|Order ID|Product|Quantity Ordered|Price Each|Order Date|Purchase Address|\n",
      "|Order ID|Product|Quantity Ordered|Price Each|Order Date|Purchase Address|\n",
      "+--------+-------+----------------+----------+----------+----------------+\n",
      "only showing top 5 rows\n",
      "\n"
     ]
    }
   ],
   "source": [
    "sales_data_df.filter(col(\"Product\") == \"Product\").show(5)"
   ]
  },
  {
   "cell_type": "code",
   "execution_count": 13,
   "metadata": {},
   "outputs": [
    {
     "name": "stdout",
     "output_type": "stream",
     "text": [
      "+--------+-------+----------------+----------+----------+----------------+\n",
      "|Order ID|Product|Quantity Ordered|Price Each|Order Date|Purchase Address|\n",
      "+--------+-------+----------------+----------+----------+----------------+\n",
      "|Order ID|Product|Quantity Ordered|Price Each|Order Date|Purchase Address|\n",
      "|Order ID|Product|Quantity Ordered|Price Each|Order Date|Purchase Address|\n",
      "|Order ID|Product|Quantity Ordered|Price Each|Order Date|Purchase Address|\n",
      "|Order ID|Product|Quantity Ordered|Price Each|Order Date|Purchase Address|\n",
      "|Order ID|Product|Quantity Ordered|Price Each|Order Date|Purchase Address|\n",
      "+--------+-------+----------------+----------+----------+----------------+\n",
      "only showing top 5 rows\n",
      "\n"
     ]
    }
   ],
   "source": [
    "sales_data_df.filter(col(\"Quantity Ordered\") == \"Quantity Ordered\").show(5)"
   ]
  },
  {
   "cell_type": "code",
   "execution_count": 14,
   "metadata": {},
   "outputs": [
    {
     "name": "stdout",
     "output_type": "stream",
     "text": [
      "+--------+-------+----------------+----------+----------+----------------+\n",
      "|Order ID|Product|Quantity Ordered|Price Each|Order Date|Purchase Address|\n",
      "+--------+-------+----------------+----------+----------+----------------+\n",
      "|Order ID|Product|Quantity Ordered|Price Each|Order Date|Purchase Address|\n",
      "|Order ID|Product|Quantity Ordered|Price Each|Order Date|Purchase Address|\n",
      "|Order ID|Product|Quantity Ordered|Price Each|Order Date|Purchase Address|\n",
      "|Order ID|Product|Quantity Ordered|Price Each|Order Date|Purchase Address|\n",
      "|Order ID|Product|Quantity Ordered|Price Each|Order Date|Purchase Address|\n",
      "+--------+-------+----------------+----------+----------+----------------+\n",
      "only showing top 5 rows\n",
      "\n"
     ]
    }
   ],
   "source": [
    "sales_data_df.filter(col(\"Price Each\") == \"Price Each\").show(5)"
   ]
  },
  {
   "cell_type": "code",
   "execution_count": 15,
   "metadata": {},
   "outputs": [
    {
     "name": "stdout",
     "output_type": "stream",
     "text": [
      "+--------+-------+----------------+----------+----------+----------------+\n",
      "|Order ID|Product|Quantity Ordered|Price Each|Order Date|Purchase Address|\n",
      "+--------+-------+----------------+----------+----------+----------------+\n",
      "|Order ID|Product|Quantity Ordered|Price Each|Order Date|Purchase Address|\n",
      "|Order ID|Product|Quantity Ordered|Price Each|Order Date|Purchase Address|\n",
      "|Order ID|Product|Quantity Ordered|Price Each|Order Date|Purchase Address|\n",
      "|Order ID|Product|Quantity Ordered|Price Each|Order Date|Purchase Address|\n",
      "|Order ID|Product|Quantity Ordered|Price Each|Order Date|Purchase Address|\n",
      "+--------+-------+----------------+----------+----------+----------------+\n",
      "only showing top 5 rows\n",
      "\n"
     ]
    }
   ],
   "source": [
    "sales_data_df.filter(col(\"Order Date\") == \"Order Date\").show(5)"
   ]
  },
  {
   "cell_type": "code",
   "execution_count": 16,
   "metadata": {},
   "outputs": [
    {
     "name": "stdout",
     "output_type": "stream",
     "text": [
      "+--------+-------+----------------+----------+----------+----------------+\n",
      "|Order ID|Product|Quantity Ordered|Price Each|Order Date|Purchase Address|\n",
      "+--------+-------+----------------+----------+----------+----------------+\n",
      "|Order ID|Product|Quantity Ordered|Price Each|Order Date|Purchase Address|\n",
      "|Order ID|Product|Quantity Ordered|Price Each|Order Date|Purchase Address|\n",
      "|Order ID|Product|Quantity Ordered|Price Each|Order Date|Purchase Address|\n",
      "|Order ID|Product|Quantity Ordered|Price Each|Order Date|Purchase Address|\n",
      "|Order ID|Product|Quantity Ordered|Price Each|Order Date|Purchase Address|\n",
      "+--------+-------+----------------+----------+----------+----------------+\n",
      "only showing top 5 rows\n",
      "\n"
     ]
    }
   ],
   "source": [
    "sales_data_df.filter(col(\"Purchase Address\") == \"Purchase Address\").show(5)"
   ]
  },
  {
   "cell_type": "code",
   "execution_count": 17,
   "metadata": {},
   "outputs": [],
   "source": [
    "sales_data_clean_df = sales_data_df.filter(col(\"Order ID\") != \"Order ID\")\n",
    "sales_data_clean_df = sales_data_clean_df.filter(col(\"Product\") != \"Product\")\n",
    "sales_data_clean_df = sales_data_clean_df.filter(col(\"Quantity Ordered\") != \"Quantity Ordered\")\n",
    "sales_data_clean_df = sales_data_clean_df.filter(col(\"Price Each\") != \"Price Each\")\n",
    "sales_data_clean_df = sales_data_clean_df.filter(col(\"Order Date\") != \"Order Date\")\n",
    "sales_data_clean_df = sales_data_clean_df.filter(col(\"Purchase Address\") != \"Purchase Address\")"
   ]
  },
  {
   "cell_type": "code",
   "execution_count": 18,
   "metadata": {},
   "outputs": [],
   "source": [
    "sales_data_clean_df = sales_data_clean_df.na.drop(\"any\")"
   ]
  },
  {
   "cell_type": "code",
   "execution_count": 19,
   "metadata": {},
   "outputs": [
    {
     "name": "stderr",
     "output_type": "stream",
     "text": [
      "                                                                                \r"
     ]
    },
    {
     "data": {
      "text/plain": [
       "185950"
      ]
     },
     "execution_count": 19,
     "metadata": {},
     "output_type": "execute_result"
    }
   ],
   "source": [
    "sales_data_clean_df.count()"
   ]
  },
  {
   "cell_type": "markdown",
   "metadata": {},
   "source": [
    "### Extract City and State from Address into New Columns"
   ]
  },
  {
   "cell_type": "code",
   "execution_count": 20,
   "metadata": {},
   "outputs": [
    {
     "name": "stdout",
     "output_type": "stream",
     "text": [
      "+--------+--------------------+----------------+----------+--------------+--------------------------------------+\n",
      "|Order ID|Product             |Quantity Ordered|Price Each|Order Date    |Purchase Address                      |\n",
      "+--------+--------------------+----------------+----------+--------------+--------------------------------------+\n",
      "|295665  |Macbook Pro Laptop  |1               |1700      |12/30/19 00:01|136 Church St, New York City, NY 10001|\n",
      "|295666  |LG Washing Machine  |1               |600.0     |12/29/19 07:03|562 2nd St, New York City, NY 10001   |\n",
      "|295667  |USB-C Charging Cable|1               |11.95     |12/12/19 18:21|277 Main St, New York City, NY 10001  |\n",
      "+--------+--------------------+----------------+----------+--------------+--------------------------------------+\n",
      "only showing top 3 rows\n",
      "\n"
     ]
    }
   ],
   "source": [
    "sales_data_clean_df.show(3, truncate=False)"
   ]
  },
  {
   "cell_type": "code",
   "execution_count": 21,
   "metadata": {},
   "outputs": [],
   "source": [
    "address_elements = split(col(\"Purchase Address\"), \",\")"
   ]
  },
  {
   "cell_type": "code",
   "execution_count": 22,
   "metadata": {},
   "outputs": [
    {
     "name": "stdout",
     "output_type": "stream",
     "text": [
      "+--------+--------------------+----------------+----------+--------------+--------------------------------------+-------------+-----+\n",
      "|Order ID|Product             |Quantity Ordered|Price Each|Order Date    |Purchase Address                      |City         |State|\n",
      "+--------+--------------------+----------------+----------+--------------+--------------------------------------+-------------+-----+\n",
      "|295665  |Macbook Pro Laptop  |1               |1700      |12/30/19 00:01|136 Church St, New York City, NY 10001|New York City|NY   |\n",
      "|295666  |LG Washing Machine  |1               |600.0     |12/29/19 07:03|562 2nd St, New York City, NY 10001   |New York City|NY   |\n",
      "|295667  |USB-C Charging Cable|1               |11.95     |12/12/19 18:21|277 Main St, New York City, NY 10001  |New York City|NY   |\n",
      "+--------+--------------------+----------------+----------+--------------+--------------------------------------+-------------+-----+\n",
      "only showing top 3 rows\n",
      "\n"
     ]
    }
   ],
   "source": [
    "sales_data_clean_df = (sales_data_clean_df.withColumn(\"City\", trim(address_elements.getItem(1)))\n",
    "                                         .withColumn(\"State\", split(trim(address_elements.getItem(2)), \" \").getItem(0)))\n",
    "\n",
    "sales_data_clean_df.show(3, truncate=False)"
   ]
  },
  {
   "cell_type": "markdown",
   "metadata": {},
   "source": [
    "### Rename and Change Data Types"
   ]
  },
  {
   "cell_type": "code",
   "execution_count": 23,
   "metadata": {},
   "outputs": [
    {
     "name": "stdout",
     "output_type": "stream",
     "text": [
      "+-------+--------------------+--------+-----+--------------+--------------------------------------+-------------+-----+\n",
      "|OrderID|Product             |Quantity|Price|OrderDate     |StoreAddress                          |City         |State|\n",
      "+-------+--------------------+--------+-----+--------------+--------------------------------------+-------------+-----+\n",
      "|295665 |Macbook Pro Laptop  |1       |1700 |12/30/19 00:01|136 Church St, New York City, NY 10001|New York City|NY   |\n",
      "|295666 |LG Washing Machine  |1       |600.0|12/29/19 07:03|562 2nd St, New York City, NY 10001   |New York City|NY   |\n",
      "|295667 |USB-C Charging Cable|1       |11.95|12/12/19 18:21|277 Main St, New York City, NY 10001  |New York City|NY   |\n",
      "+-------+--------------------+--------+-----+--------------+--------------------------------------+-------------+-----+\n",
      "only showing top 3 rows\n",
      "\n"
     ]
    }
   ],
   "source": [
    "sales_data_updated_df = (sales_data_clean_df.withColumnRenamed(\"Order ID\", \"OrderID\")\n",
    "                                           .withColumnRenamed(\"Quantity Ordered\", \"Quantity\")\n",
    "                                           .withColumnRenamed(\"Price Each\", \"Price\")\n",
    "                                           .withColumnRenamed(\"Order Date\", \"OrderDate\")\n",
    "                                           .withColumnRenamed(\"Purchase Address\", \"StoreAddress\"))\n",
    "\n",
    "sales_data_updated_df.show(3, truncate=False)"
   ]
  },
  {
   "cell_type": "code",
   "execution_count": 24,
   "metadata": {},
   "outputs": [
    {
     "data": {
      "text/plain": [
       "[('OrderID', 'string'),\n",
       " ('Product', 'string'),\n",
       " ('Quantity', 'string'),\n",
       " ('Price', 'string'),\n",
       " ('OrderDate', 'string'),\n",
       " ('StoreAddress', 'string'),\n",
       " ('City', 'string'),\n",
       " ('State', 'string')]"
      ]
     },
     "execution_count": 24,
     "metadata": {},
     "output_type": "execute_result"
    }
   ],
   "source": [
    "sales_data_updated_df.dtypes"
   ]
  },
  {
   "cell_type": "code",
   "execution_count": 25,
   "metadata": {},
   "outputs": [],
   "source": [
    "sales_data_updated_df = (sales_data_updated_df.withColumn(\"OrderID\", col(\"OrderID\").cast(IntegerType()))\n",
    "                                             .withColumn(\"Quantity\", col(\"Quantity\").cast(IntegerType()))\n",
    "                                             .withColumn(\"Price\", col(\"Price\").cast(FloatType()))\n",
    "                                             .withColumn(\"OrderDate\", to_timestamp(col(\"OrderDate\"), \"MM/dd/yy HH:mm\")))"
   ]
  },
  {
   "cell_type": "code",
   "execution_count": 26,
   "metadata": {},
   "outputs": [
    {
     "name": "stdout",
     "output_type": "stream",
     "text": [
      "+-------+--------------------------+--------+------+-------------------+-----------------------------------------+-------------+-----+\n",
      "|OrderID|Product                   |Quantity|Price |OrderDate          |StoreAddress                             |City         |State|\n",
      "+-------+--------------------------+--------+------+-------------------+-----------------------------------------+-------------+-----+\n",
      "|295665 |Macbook Pro Laptop        |1       |1700.0|2019-12-30 00:01:00|136 Church St, New York City, NY 10001   |New York City|NY   |\n",
      "|295666 |LG Washing Machine        |1       |600.0 |2019-12-29 07:03:00|562 2nd St, New York City, NY 10001      |New York City|NY   |\n",
      "|295667 |USB-C Charging Cable      |1       |11.95 |2019-12-12 18:21:00|277 Main St, New York City, NY 10001     |New York City|NY   |\n",
      "|295668 |27in FHD Monitor          |1       |149.99|2019-12-22 15:13:00|410 6th St, San Francisco, CA 94016      |San Francisco|CA   |\n",
      "|295669 |USB-C Charging Cable      |1       |11.95 |2019-12-18 12:38:00|43 Hill St, Atlanta, GA 30301            |Atlanta      |GA   |\n",
      "|295670 |AA Batteries (4-pack)     |1       |3.84  |2019-12-31 22:58:00|200 Jefferson St, New York City, NY 10001|New York City|NY   |\n",
      "|295671 |USB-C Charging Cable      |1       |11.95 |2019-12-16 15:10:00|928 12th St, Portland, OR 97035          |Portland     |OR   |\n",
      "|295672 |USB-C Charging Cable      |2       |11.95 |2019-12-13 09:29:00|813 Hickory St, Dallas, TX 75001         |Dallas       |TX   |\n",
      "|295673 |Bose SoundSport Headphones|1       |99.99 |2019-12-15 23:26:00|718 Wilson St, Dallas, TX 75001          |Dallas       |TX   |\n",
      "|295674 |AAA Batteries (4-pack)    |4       |2.99  |2019-12-28 11:51:00|77 7th St, Dallas, TX 75001              |Dallas       |TX   |\n",
      "+-------+--------------------------+--------+------+-------------------+-----------------------------------------+-------------+-----+\n",
      "only showing top 10 rows\n",
      "\n"
     ]
    }
   ],
   "source": [
    "sales_data_updated_df.show(10, truncate=False)"
   ]
  },
  {
   "cell_type": "code",
   "execution_count": 27,
   "metadata": {},
   "outputs": [
    {
     "name": "stdout",
     "output_type": "stream",
     "text": [
      "root\n",
      " |-- OrderID: integer (nullable = true)\n",
      " |-- Product: string (nullable = true)\n",
      " |-- Quantity: integer (nullable = true)\n",
      " |-- Price: float (nullable = true)\n",
      " |-- OrderDate: timestamp (nullable = true)\n",
      " |-- StoreAddress: string (nullable = true)\n",
      " |-- City: string (nullable = true)\n",
      " |-- State: string (nullable = true)\n",
      "\n"
     ]
    }
   ],
   "source": [
    "sales_data_updated_df.printSchema()"
   ]
  },
  {
   "cell_type": "markdown",
   "metadata": {},
   "source": [
    "### Add New Columns: ReportYear and ReportMonth"
   ]
  },
  {
   "cell_type": "code",
   "execution_count": 28,
   "metadata": {},
   "outputs": [],
   "source": [
    "sales_data_updated_df = (sales_data_updated_df.withColumn(\"ReportYear\", year(col(\"OrderDate\")))\n",
    "                                             .withColumn(\"ReportMonth\", month(col(\"OrderDate\"))))"
   ]
  },
  {
   "cell_type": "code",
   "execution_count": 29,
   "metadata": {},
   "outputs": [
    {
     "name": "stdout",
     "output_type": "stream",
     "text": [
      "+-------+--------------------------+--------+------+-------------------+-----------------------------------------+-------------+-----+----------+-----------+\n",
      "|OrderID|Product                   |Quantity|Price |OrderDate          |StoreAddress                             |City         |State|ReportYear|ReportMonth|\n",
      "+-------+--------------------------+--------+------+-------------------+-----------------------------------------+-------------+-----+----------+-----------+\n",
      "|295665 |Macbook Pro Laptop        |1       |1700.0|2019-12-30 00:01:00|136 Church St, New York City, NY 10001   |New York City|NY   |2019      |12         |\n",
      "|295666 |LG Washing Machine        |1       |600.0 |2019-12-29 07:03:00|562 2nd St, New York City, NY 10001      |New York City|NY   |2019      |12         |\n",
      "|295667 |USB-C Charging Cable      |1       |11.95 |2019-12-12 18:21:00|277 Main St, New York City, NY 10001     |New York City|NY   |2019      |12         |\n",
      "|295668 |27in FHD Monitor          |1       |149.99|2019-12-22 15:13:00|410 6th St, San Francisco, CA 94016      |San Francisco|CA   |2019      |12         |\n",
      "|295669 |USB-C Charging Cable      |1       |11.95 |2019-12-18 12:38:00|43 Hill St, Atlanta, GA 30301            |Atlanta      |GA   |2019      |12         |\n",
      "|295670 |AA Batteries (4-pack)     |1       |3.84  |2019-12-31 22:58:00|200 Jefferson St, New York City, NY 10001|New York City|NY   |2019      |12         |\n",
      "|295671 |USB-C Charging Cable      |1       |11.95 |2019-12-16 15:10:00|928 12th St, Portland, OR 97035          |Portland     |OR   |2019      |12         |\n",
      "|295672 |USB-C Charging Cable      |2       |11.95 |2019-12-13 09:29:00|813 Hickory St, Dallas, TX 75001         |Dallas       |TX   |2019      |12         |\n",
      "|295673 |Bose SoundSport Headphones|1       |99.99 |2019-12-15 23:26:00|718 Wilson St, Dallas, TX 75001          |Dallas       |TX   |2019      |12         |\n",
      "|295674 |AAA Batteries (4-pack)    |4       |2.99  |2019-12-28 11:51:00|77 7th St, Dallas, TX 75001              |Dallas       |TX   |2019      |12         |\n",
      "+-------+--------------------------+--------+------+-------------------+-----------------------------------------+-------------+-----+----------+-----------+\n",
      "only showing top 10 rows\n",
      "\n"
     ]
    }
   ],
   "source": [
    "sales_data_updated_df.show(10, truncate=False)"
   ]
  },
  {
   "cell_type": "code",
   "execution_count": 30,
   "metadata": {},
   "outputs": [
    {
     "name": "stdout",
     "output_type": "stream",
     "text": [
      "root\n",
      " |-- OrderID: integer (nullable = true)\n",
      " |-- Product: string (nullable = true)\n",
      " |-- Quantity: integer (nullable = true)\n",
      " |-- Price: float (nullable = true)\n",
      " |-- OrderDate: timestamp (nullable = true)\n",
      " |-- StoreAddress: string (nullable = true)\n",
      " |-- City: string (nullable = true)\n",
      " |-- State: string (nullable = true)\n",
      " |-- ReportYear: integer (nullable = true)\n",
      " |-- ReportMonth: integer (nullable = true)\n",
      "\n"
     ]
    }
   ],
   "source": [
    "sales_data_updated_df.printSchema()"
   ]
  },
  {
   "cell_type": "markdown",
   "metadata": {},
   "source": [
    "### Export DataFrame to Parquet"
   ]
  },
  {
   "cell_type": "code",
   "execution_count": 31,
   "metadata": {},
   "outputs": [
    {
     "name": "stderr",
     "output_type": "stream",
     "text": [
      "                                                                                \r"
     ]
    }
   ],
   "source": [
    "export_path = f\"../../data/output/sales_analytics\"\n",
    "\n",
    "sales_data_updated_df.write.mode(\"overwrite\").partitionBy(\"ReportYear\", \"ReportMonth\").parquet(export_path)"
   ]
  },
  {
   "cell_type": "markdown",
   "metadata": {},
   "source": [
    "## Part 3: Sales Analytics"
   ]
  },
  {
   "cell_type": "markdown",
   "metadata": {},
   "source": [
    "Prerequisite: Read the Sales Data from the Parquet directory for the 2019 year only."
   ]
  },
  {
   "cell_type": "code",
   "execution_count": null,
   "metadata": {},
   "outputs": [
    {
     "name": "stdout",
     "output_type": "stream",
     "text": [
      "+-------+--------------------------+--------+------+-------------------+-----------------------------------------+-------------+-----+-----------+\n",
      "|OrderID|Product                   |Quantity|Price |OrderDate          |StoreAddress                             |City         |State|ReportMonth|\n",
      "+-------+--------------------------+--------+------+-------------------+-----------------------------------------+-------------+-----+-----------+\n",
      "|295665 |Macbook Pro Laptop        |1       |1700.0|2019-12-30 00:01:00|136 Church St, New York City, NY 10001   |New York City|NY   |12         |\n",
      "|295666 |LG Washing Machine        |1       |600.0 |2019-12-29 07:03:00|562 2nd St, New York City, NY 10001      |New York City|NY   |12         |\n",
      "|295667 |USB-C Charging Cable      |1       |11.95 |2019-12-12 18:21:00|277 Main St, New York City, NY 10001     |New York City|NY   |12         |\n",
      "|295668 |27in FHD Monitor          |1       |149.99|2019-12-22 15:13:00|410 6th St, San Francisco, CA 94016      |San Francisco|CA   |12         |\n",
      "|295669 |USB-C Charging Cable      |1       |11.95 |2019-12-18 12:38:00|43 Hill St, Atlanta, GA 30301            |Atlanta      |GA   |12         |\n",
      "|295670 |AA Batteries (4-pack)     |1       |3.84  |2019-12-31 22:58:00|200 Jefferson St, New York City, NY 10001|New York City|NY   |12         |\n",
      "|295671 |USB-C Charging Cable      |1       |11.95 |2019-12-16 15:10:00|928 12th St, Portland, OR 97035          |Portland     |OR   |12         |\n",
      "|295672 |USB-C Charging Cable      |2       |11.95 |2019-12-13 09:29:00|813 Hickory St, Dallas, TX 75001         |Dallas       |TX   |12         |\n",
      "|295673 |Bose SoundSport Headphones|1       |99.99 |2019-12-15 23:26:00|718 Wilson St, Dallas, TX 75001          |Dallas       |TX   |12         |\n",
      "|295674 |AAA Batteries (4-pack)    |4       |2.99  |2019-12-28 11:51:00|77 7th St, Dallas, TX 75001              |Dallas       |TX   |12         |\n",
      "+-------+--------------------------+--------+------+-------------------+-----------------------------------------+-------------+-----+-----------+\n",
      "only showing top 10 rows\n",
      "\n"
     ]
    },
    {
     "data": {
      "text/plain": [
       "185916"
      ]
     },
     "execution_count": 63,
     "metadata": {},
     "output_type": "execute_result"
    }
   ],
   "source": [
    "directory_path = f\"../../data/output/sales_analytics/ReportYear=2019\"\n",
    "\n",
    "sales_data_2019_df = spark.read.parquet(directory_path)\n",
    "\n",
    "sales_data_2019_df.show(10, truncate=False)\n",
    "sales_data_2019_df.count()"
   ]
  },
  {
   "cell_type": "code",
   "execution_count": 64,
   "metadata": {},
   "outputs": [
    {
     "name": "stdout",
     "output_type": "stream",
     "text": [
      "root\n",
      " |-- OrderID: integer (nullable = true)\n",
      " |-- Product: string (nullable = true)\n",
      " |-- Quantity: integer (nullable = true)\n",
      " |-- Price: float (nullable = true)\n",
      " |-- OrderDate: timestamp (nullable = true)\n",
      " |-- StoreAddress: string (nullable = true)\n",
      " |-- City: string (nullable = true)\n",
      " |-- State: string (nullable = true)\n",
      " |-- ReportMonth: integer (nullable = true)\n",
      "\n"
     ]
    }
   ],
   "source": [
    "sales_data_2019_df.printSchema()"
   ]
  },
  {
   "cell_type": "markdown",
   "metadata": {},
   "source": [
    "### Identify the *best* month in terms of sales "
   ]
  },
  {
   "cell_type": "code",
   "execution_count": 66,
   "metadata": {},
   "outputs": [
    {
     "name": "stdout",
     "output_type": "stream",
     "text": [
      "+-------+--------------------+-----------+------+--------+----------+\n",
      "|OrderID|             Product|ReportMonth| Price|Quantity|TotalSales|\n",
      "+-------+--------------------+-----------+------+--------+----------+\n",
      "| 295665|  Macbook Pro Laptop|         12|1700.0|       1|    1700.0|\n",
      "| 295666|  LG Washing Machine|         12| 600.0|       1|     600.0|\n",
      "| 295667|USB-C Charging Cable|         12| 11.95|       1|     11.95|\n",
      "| 295668|    27in FHD Monitor|         12|149.99|       1|    149.99|\n",
      "| 295669|USB-C Charging Cable|         12| 11.95|       1|     11.95|\n",
      "| 295670|AA Batteries (4-p...|         12|  3.84|       1|      3.84|\n",
      "| 295671|USB-C Charging Cable|         12| 11.95|       1|     11.95|\n",
      "| 295672|USB-C Charging Cable|         12| 11.95|       2|      23.9|\n",
      "| 295673|Bose SoundSport H...|         12| 99.99|       1|     99.99|\n",
      "| 295674|AAA Batteries (4-...|         12|  2.99|       4|     11.96|\n",
      "+-------+--------------------+-----------+------+--------+----------+\n",
      "only showing top 10 rows\n",
      "\n"
     ]
    }
   ],
   "source": [
    "best_month_df = (sales_data_2019_df.select(col(\"OrderID\"), \n",
    "                                           col(\"Product\"),\n",
    "                                           col(\"ReportMonth\"),\n",
    "                                           col(\"Price\"),\n",
    "                                           col(\"Quantity\"),\n",
    "                                           expr(\"Price * Quantity\").alias(\"TotalSales\")))\n",
    "\n",
    "best_month_df.show(10)"
   ]
  },
  {
   "cell_type": "code",
   "execution_count": 73,
   "metadata": {},
   "outputs": [
    {
     "name": "stdout",
     "output_type": "stream",
     "text": [
      "+-----------+----------+\n",
      "|ReportMonth|TotalSales|\n",
      "+-----------+----------+\n",
      "|          1|1813586.43|\n",
      "|          2|2202022.41|\n",
      "|          3|2807100.37|\n",
      "|          4|3390670.22|\n",
      "|          5|3152606.73|\n",
      "|          6|2577802.25|\n",
      "|          7|2647775.75|\n",
      "|          8|2244467.87|\n",
      "|          9|2097560.12|\n",
      "|         10|3736726.86|\n",
      "|         11|3199603.18|\n",
      "|         12|4613443.32|\n",
      "+-----------+----------+\n",
      "\n",
      "+-----------+----------+\n",
      "|ReportMonth|TotalSales|\n",
      "+-----------+----------+\n",
      "|         12|4613443.32|\n",
      "+-----------+----------+\n",
      "only showing top 1 row\n",
      "\n"
     ]
    }
   ],
   "source": [
    "summary_month = (best_month_df.groupBy(\"ReportMonth\")\n",
    "                    .agg(round(sum(\"TotalSales\"), 2).alias(\"TotalSales\"))\n",
    "                    .orderBy(\"ReportMonth\"))\n",
    "\n",
    "summary_month.show()\n",
    "summary_month.orderBy(summary_month[\"TotalSales\"].desc()).show(1)"
   ]
  },
  {
   "cell_type": "code",
   "execution_count": 76,
   "metadata": {},
   "outputs": [
    {
     "data": {
      "application/vnd.microsoft.datawrangler.viewer.v0+json": {
       "columns": [
        {
         "name": "index",
         "rawType": "int64",
         "type": "integer"
        },
        {
         "name": "ReportMonth",
         "rawType": "int32",
         "type": "integer"
        },
        {
         "name": "TotalSales",
         "rawType": "float64",
         "type": "float"
        }
       ],
       "conversionMethod": "pd.DataFrame",
       "ref": "7c03f4aa-cb7e-4f2c-951c-6deb4f32677c",
       "rows": [
        [
         "0",
         "1",
         "1813586.43"
        ],
        [
         "1",
         "2",
         "2202022.41"
        ],
        [
         "2",
         "3",
         "2807100.37"
        ],
        [
         "3",
         "4",
         "3390670.22"
        ],
        [
         "4",
         "5",
         "3152606.73"
        ],
        [
         "5",
         "6",
         "2577802.25"
        ],
        [
         "6",
         "7",
         "2647775.75"
        ],
        [
         "7",
         "8",
         "2244467.87"
        ],
        [
         "8",
         "9",
         "2097560.12"
        ],
        [
         "9",
         "10",
         "3736726.86"
        ],
        [
         "10",
         "11",
         "3199603.18"
        ],
        [
         "11",
         "12",
         "4613443.32"
        ]
       ],
       "shape": {
        "columns": 2,
        "rows": 12
       }
      },
      "text/html": [
       "<div>\n",
       "<style scoped>\n",
       "    .dataframe tbody tr th:only-of-type {\n",
       "        vertical-align: middle;\n",
       "    }\n",
       "\n",
       "    .dataframe tbody tr th {\n",
       "        vertical-align: top;\n",
       "    }\n",
       "\n",
       "    .dataframe thead th {\n",
       "        text-align: right;\n",
       "    }\n",
       "</style>\n",
       "<table border=\"1\" class=\"dataframe\">\n",
       "  <thead>\n",
       "    <tr style=\"text-align: right;\">\n",
       "      <th></th>\n",
       "      <th>ReportMonth</th>\n",
       "      <th>TotalSales</th>\n",
       "    </tr>\n",
       "  </thead>\n",
       "  <tbody>\n",
       "    <tr>\n",
       "      <th>0</th>\n",
       "      <td>1</td>\n",
       "      <td>1813586.43</td>\n",
       "    </tr>\n",
       "    <tr>\n",
       "      <th>1</th>\n",
       "      <td>2</td>\n",
       "      <td>2202022.41</td>\n",
       "    </tr>\n",
       "    <tr>\n",
       "      <th>2</th>\n",
       "      <td>3</td>\n",
       "      <td>2807100.37</td>\n",
       "    </tr>\n",
       "    <tr>\n",
       "      <th>3</th>\n",
       "      <td>4</td>\n",
       "      <td>3390670.22</td>\n",
       "    </tr>\n",
       "    <tr>\n",
       "      <th>4</th>\n",
       "      <td>5</td>\n",
       "      <td>3152606.73</td>\n",
       "    </tr>\n",
       "    <tr>\n",
       "      <th>5</th>\n",
       "      <td>6</td>\n",
       "      <td>2577802.25</td>\n",
       "    </tr>\n",
       "    <tr>\n",
       "      <th>6</th>\n",
       "      <td>7</td>\n",
       "      <td>2647775.75</td>\n",
       "    </tr>\n",
       "    <tr>\n",
       "      <th>7</th>\n",
       "      <td>8</td>\n",
       "      <td>2244467.87</td>\n",
       "    </tr>\n",
       "    <tr>\n",
       "      <th>8</th>\n",
       "      <td>9</td>\n",
       "      <td>2097560.12</td>\n",
       "    </tr>\n",
       "    <tr>\n",
       "      <th>9</th>\n",
       "      <td>10</td>\n",
       "      <td>3736726.86</td>\n",
       "    </tr>\n",
       "    <tr>\n",
       "      <th>10</th>\n",
       "      <td>11</td>\n",
       "      <td>3199603.18</td>\n",
       "    </tr>\n",
       "    <tr>\n",
       "      <th>11</th>\n",
       "      <td>12</td>\n",
       "      <td>4613443.32</td>\n",
       "    </tr>\n",
       "  </tbody>\n",
       "</table>\n",
       "</div>"
      ],
      "text/plain": [
       "    ReportMonth  TotalSales\n",
       "0             1  1813586.43\n",
       "1             2  2202022.41\n",
       "2             3  2807100.37\n",
       "3             4  3390670.22\n",
       "4             5  3152606.73\n",
       "5             6  2577802.25\n",
       "6             7  2647775.75\n",
       "7             8  2244467.87\n",
       "8             9  2097560.12\n",
       "9            10  3736726.86\n",
       "10           11  3199603.18\n",
       "11           12  4613443.32"
      ]
     },
     "execution_count": 76,
     "metadata": {},
     "output_type": "execute_result"
    }
   ],
   "source": [
    "month_df = summary_month.toPandas()\n",
    "month_df"
   ]
  },
  {
   "cell_type": "code",
   "execution_count": 80,
   "metadata": {},
   "outputs": [
    {
     "data": {
      "image/png": "[encoded data removed]",
      "text/plain": [
       "<Figure size 1000x600 with 1 Axes>"
      ]
     },
     "metadata": {},
     "output_type": "display_data"
    }
   ],
   "source": [
    "plt.figure(figsize=(10, 6))\n",
    "plt.ticklabel_format(useOffset=False, style=\"plain\")\n",
    "sns.set_theme(style=\"whitegrid\")\n",
    "sns.barplot(x=\"ReportMonth\", y=\"TotalSales\", data=month_df).set_title(\"Total Sales by Month in 2019\")\n",
    "plt.xlabel(\"Month\")\n",
    "plt.ylabel(\"Total Sales\")\n",
    "plt.show()"
   ]
  },
  {
   "cell_type": "markdown",
   "metadata": {},
   "source": [
    "### Identify the city which sold the most products"
   ]
  },
  {
   "cell_type": "code",
   "execution_count": 47,
   "metadata": {},
   "outputs": [
    {
     "name": "stdout",
     "output_type": "stream",
     "text": [
      "+-------------+----------+\n",
      "|         City|TotalCount|\n",
      "+-------------+----------+\n",
      "|      Atlanta|     16602|\n",
      "|       Austin|     11151|\n",
      "|       Boston|     22524|\n",
      "|       Dallas|     16728|\n",
      "|  Los Angeles|     33288|\n",
      "|New York City|     27916|\n",
      "|     Portland|     14051|\n",
      "|San Francisco|     50226|\n",
      "|      Seattle|     16552|\n",
      "+-------------+----------+\n",
      "\n",
      "+-------------+----------+\n",
      "|         City|TotalCount|\n",
      "+-------------+----------+\n",
      "|San Francisco|     50226|\n",
      "|  Los Angeles|     33288|\n",
      "|New York City|     27916|\n",
      "+-------------+----------+\n",
      "only showing top 3 rows\n",
      "\n"
     ]
    }
   ],
   "source": [
    "best_city = (sales_data_2019_df.groupBy(\"City\")\n",
    "                    .agg(round(sum(\"Quantity\"), 2).alias(\"TotalCount\"))\n",
    "                    .orderBy(\"City\"))\n",
    "\n",
    "best_city.show(10)\n",
    "best_city.orderBy(best_city[\"TotalCount\"].desc()).show(3)"
   ]
  },
  {
   "cell_type": "code",
   "execution_count": 82,
   "metadata": {},
   "outputs": [
    {
     "data": {
      "application/vnd.microsoft.datawrangler.viewer.v0+json": {
       "columns": [
        {
         "name": "index",
         "rawType": "int64",
         "type": "integer"
        },
        {
         "name": "City",
         "rawType": "object",
         "type": "string"
        },
        {
         "name": "TotalCount",
         "rawType": "int64",
         "type": "integer"
        }
       ],
       "conversionMethod": "pd.DataFrame",
       "ref": "3d2278c4-538f-4c8c-b7de-ec45eca758a8",
       "rows": [
        [
         "0",
         "Atlanta",
         "16602"
        ],
        [
         "1",
         "Austin",
         "11151"
        ],
        [
         "2",
         "Boston",
         "22524"
        ],
        [
         "3",
         "Dallas",
         "16728"
        ],
        [
         "4",
         "Los Angeles",
         "33288"
        ],
        [
         "5",
         "New York City",
         "27916"
        ],
        [
         "6",
         "Portland",
         "14051"
        ],
        [
         "7",
         "San Francisco",
         "50226"
        ],
        [
         "8",
         "Seattle",
         "16552"
        ]
       ],
       "shape": {
        "columns": 2,
        "rows": 9
       }
      },
      "text/html": [
       "<div>\n",
       "<style scoped>\n",
       "    .dataframe tbody tr th:only-of-type {\n",
       "        vertical-align: middle;\n",
       "    }\n",
       "\n",
       "    .dataframe tbody tr th {\n",
       "        vertical-align: top;\n",
       "    }\n",
       "\n",
       "    .dataframe thead th {\n",
       "        text-align: right;\n",
       "    }\n",
       "</style>\n",
       "<table border=\"1\" class=\"dataframe\">\n",
       "  <thead>\n",
       "    <tr style=\"text-align: right;\">\n",
       "      <th></th>\n",
       "      <th>City</th>\n",
       "      <th>TotalCount</th>\n",
       "    </tr>\n",
       "  </thead>\n",
       "  <tbody>\n",
       "    <tr>\n",
       "      <th>0</th>\n",
       "      <td>Atlanta</td>\n",
       "      <td>16602</td>\n",
       "    </tr>\n",
       "    <tr>\n",
       "      <th>1</th>\n",
       "      <td>Austin</td>\n",
       "      <td>11151</td>\n",
       "    </tr>\n",
       "    <tr>\n",
       "      <th>2</th>\n",
       "      <td>Boston</td>\n",
       "      <td>22524</td>\n",
       "    </tr>\n",
       "    <tr>\n",
       "      <th>3</th>\n",
       "      <td>Dallas</td>\n",
       "      <td>16728</td>\n",
       "    </tr>\n",
       "    <tr>\n",
       "      <th>4</th>\n",
       "      <td>Los Angeles</td>\n",
       "      <td>33288</td>\n",
       "    </tr>\n",
       "    <tr>\n",
       "      <th>5</th>\n",
       "      <td>New York City</td>\n",
       "      <td>27916</td>\n",
       "    </tr>\n",
       "    <tr>\n",
       "      <th>6</th>\n",
       "      <td>Portland</td>\n",
       "      <td>14051</td>\n",
       "    </tr>\n",
       "    <tr>\n",
       "      <th>7</th>\n",
       "      <td>San Francisco</td>\n",
       "      <td>50226</td>\n",
       "    </tr>\n",
       "    <tr>\n",
       "      <th>8</th>\n",
       "      <td>Seattle</td>\n",
       "      <td>16552</td>\n",
       "    </tr>\n",
       "  </tbody>\n",
       "</table>\n",
       "</div>"
      ],
      "text/plain": [
       "            City  TotalCount\n",
       "0        Atlanta       16602\n",
       "1         Austin       11151\n",
       "2         Boston       22524\n",
       "3         Dallas       16728\n",
       "4    Los Angeles       33288\n",
       "5  New York City       27916\n",
       "6       Portland       14051\n",
       "7  San Francisco       50226\n",
       "8        Seattle       16552"
      ]
     },
     "execution_count": 82,
     "metadata": {},
     "output_type": "execute_result"
    }
   ],
   "source": [
    "city_df = best_city.toPandas()\n",
    "city_df"
   ]
  },
  {
   "cell_type": "code",
   "execution_count": 87,
   "metadata": {},
   "outputs": [
    {
     "data": {
      "image/png": "[encoded data removed]",
      "text/plain": [
       "<Figure size 1000x600 with 1 Axes>"
      ]
     },
     "metadata": {},
     "output_type": "display_data"
    }
   ],
   "source": [
    "plt.figure(figsize=(10, 6))\n",
    "plt.ticklabel_format(useOffset=False, style=\"plain\")\n",
    "sns.set_theme(style=\"darkgrid\")\n",
    "sns.barplot(x=\"TotalCount\", y=\"City\", data=city_df).set_title(\"Total Products per City in 2019\")\n",
    "plt.xlabel(\"Total Products\")\n",
    "plt.ylabel(\"\")\n",
    "plt.show()"
   ]
  },
  {
   "cell_type": "markdown",
   "metadata": {},
   "source": [
    "### Identify the ideal time to display advertisements to maximize the likelihood of customers buying products"
   ]
  },
  {
   "cell_type": "code",
   "execution_count": 50,
   "metadata": {},
   "outputs": [
    {
     "name": "stdout",
     "output_type": "stream",
     "text": [
      "+-------+--------------------------+--------+------+-------------------+-----------------------------------------+-------------+-----+-----------+---------+\n",
      "|OrderID|Product                   |Quantity|Price |OrderDate          |StoreAddress                             |City         |State|ReportMonth|OrderHour|\n",
      "+-------+--------------------------+--------+------+-------------------+-----------------------------------------+-------------+-----+-----------+---------+\n",
      "|295665 |Macbook Pro Laptop        |1       |1700.0|2019-12-30 00:01:00|136 Church St, New York City, NY 10001   |New York City|NY   |12         |0        |\n",
      "|295666 |LG Washing Machine        |1       |600.0 |2019-12-29 07:03:00|562 2nd St, New York City, NY 10001      |New York City|NY   |12         |7        |\n",
      "|295667 |USB-C Charging Cable      |1       |11.95 |2019-12-12 18:21:00|277 Main St, New York City, NY 10001     |New York City|NY   |12         |18       |\n",
      "|295668 |27in FHD Monitor          |1       |149.99|2019-12-22 15:13:00|410 6th St, San Francisco, CA 94016      |San Francisco|CA   |12         |15       |\n",
      "|295669 |USB-C Charging Cable      |1       |11.95 |2019-12-18 12:38:00|43 Hill St, Atlanta, GA 30301            |Atlanta      |GA   |12         |12       |\n",
      "|295670 |AA Batteries (4-pack)     |1       |3.84  |2019-12-31 22:58:00|200 Jefferson St, New York City, NY 10001|New York City|NY   |12         |22       |\n",
      "|295671 |USB-C Charging Cable      |1       |11.95 |2019-12-16 15:10:00|928 12th St, Portland, OR 97035          |Portland     |OR   |12         |15       |\n",
      "|295672 |USB-C Charging Cable      |2       |11.95 |2019-12-13 09:29:00|813 Hickory St, Dallas, TX 75001         |Dallas       |TX   |12         |9        |\n",
      "|295673 |Bose SoundSport Headphones|1       |99.99 |2019-12-15 23:26:00|718 Wilson St, Dallas, TX 75001          |Dallas       |TX   |12         |23       |\n",
      "|295674 |AAA Batteries (4-pack)    |4       |2.99  |2019-12-28 11:51:00|77 7th St, Dallas, TX 75001              |Dallas       |TX   |12         |11       |\n",
      "+-------+--------------------------+--------+------+-------------------+-----------------------------------------+-------------+-----+-----------+---------+\n",
      "only showing top 10 rows\n",
      "\n"
     ]
    }
   ],
   "source": [
    "hourly_sales_df = sales_data_2019_df.withColumn(\"OrderHour\", hour(col(\"OrderDate\")))\n",
    "hourly_sales_df.show(10, truncate=False)"
   ]
  },
  {
   "cell_type": "code",
   "execution_count": 88,
   "metadata": {},
   "outputs": [
    {
     "name": "stdout",
     "output_type": "stream",
     "text": [
      "root\n",
      " |-- OrderID: integer (nullable = true)\n",
      " |-- Product: string (nullable = true)\n",
      " |-- Quantity: integer (nullable = true)\n",
      " |-- Price: float (nullable = true)\n",
      " |-- OrderDate: timestamp (nullable = true)\n",
      " |-- StoreAddress: string (nullable = true)\n",
      " |-- City: string (nullable = true)\n",
      " |-- State: string (nullable = true)\n",
      " |-- ReportMonth: integer (nullable = true)\n",
      " |-- OrderHour: integer (nullable = true)\n",
      "\n"
     ]
    }
   ],
   "source": [
    "hourly_sales_df.printSchema()"
   ]
  },
  {
   "cell_type": "code",
   "execution_count": 90,
   "metadata": {},
   "outputs": [
    {
     "name": "stderr",
     "output_type": "stream",
     "text": [
      "[Stage 180:===================================>                     (5 + 3) / 8]\r"
     ]
    },
    {
     "name": "stdout",
     "output_type": "stream",
     "text": [
      "+---------+-----------+\n",
      "|OrderHour|TotalOrders|\n",
      "+---------+-----------+\n",
      "|        0|       3748|\n",
      "|        1|       2246|\n",
      "|        2|       1189|\n",
      "|        3|        804|\n",
      "|        4|        810|\n",
      "|        5|       1258|\n",
      "|        6|       2375|\n",
      "|        7|       3836|\n",
      "|        8|       6036|\n",
      "|        9|       8404|\n",
      "|       10|      10492|\n",
      "|       11|      11882|\n",
      "|       12|      12082|\n",
      "|       13|      11682|\n",
      "|       14|      10522|\n",
      "|       15|       9761|\n",
      "|       16|       9960|\n",
      "|       17|      10476|\n",
      "|       18|      11761|\n",
      "|       19|      12377|\n",
      "+---------+-----------+\n",
      "only showing top 20 rows\n",
      "\n"
     ]
    },
    {
     "name": "stderr",
     "output_type": "stream",
     "text": [
      "                                                                                \r"
     ]
    }
   ],
   "source": [
    "hourly_summary = (hourly_sales_df.select(\"OrderID\", \"OrderHour\").distinct()\n",
    "                                 .groupBy(\"OrderHour\")\n",
    "                                 .agg(count(\"OrderID\").alias(\"TotalOrders\"))\n",
    "                                 .orderBy(\"OrderHour\"))\n",
    "\n",
    "hourly_summary.show()"
   ]
  },
  {
   "cell_type": "code",
   "execution_count": 91,
   "metadata": {},
   "outputs": [
    {
     "name": "stderr",
     "output_type": "stream",
     "text": [
      "[Stage 186:============================>                            (4 + 4) / 8]\r"
     ]
    },
    {
     "name": "stdout",
     "output_type": "stream",
     "text": [
      "+---------+-----------+\n",
      "|OrderHour|TotalOrders|\n",
      "+---------+-----------+\n",
      "|       19|      12377|\n",
      "|       12|      12082|\n",
      "|       11|      11882|\n",
      "+---------+-----------+\n",
      "only showing top 3 rows\n",
      "\n"
     ]
    },
    {
     "name": "stderr",
     "output_type": "stream",
     "text": [
      "                                                                                \r"
     ]
    }
   ],
   "source": [
    "hourly_summary.orderBy(hourly_summary[\"TotalOrders\"].desc()).show(3)"
   ]
  },
  {
   "cell_type": "code",
   "execution_count": 92,
   "metadata": {},
   "outputs": [
    {
     "name": "stderr",
     "output_type": "stream",
     "text": [
      "                                                                                \r"
     ]
    },
    {
     "data": {
      "application/vnd.microsoft.datawrangler.viewer.v0+json": {
       "columns": [
        {
         "name": "index",
         "rawType": "int64",
         "type": "integer"
        },
        {
         "name": "OrderHour",
         "rawType": "int32",
         "type": "integer"
        },
        {
         "name": "TotalOrders",
         "rawType": "int64",
         "type": "integer"
        }
       ],
       "conversionMethod": "pd.DataFrame",
       "ref": "8b4f7e62-42fd-479a-9ec6-df23ca0fcd87",
       "rows": [
        [
         "0",
         "0",
         "3748"
        ],
        [
         "1",
         "1",
         "2246"
        ],
        [
         "2",
         "2",
         "1189"
        ],
        [
         "3",
         "3",
         "804"
        ],
        [
         "4",
         "4",
         "810"
        ],
        [
         "5",
         "5",
         "1258"
        ],
        [
         "6",
         "6",
         "2375"
        ],
        [
         "7",
         "7",
         "3836"
        ],
        [
         "8",
         "8",
         "6036"
        ],
        [
         "9",
         "9",
         "8404"
        ],
        [
         "10",
         "10",
         "10492"
        ],
        [
         "11",
         "11",
         "11882"
        ],
        [
         "12",
         "12",
         "12082"
        ],
        [
         "13",
         "13",
         "11682"
        ],
        [
         "14",
         "14",
         "10522"
        ],
        [
         "15",
         "15",
         "9761"
        ],
        [
         "16",
         "16",
         "9960"
        ],
        [
         "17",
         "17",
         "10476"
        ],
        [
         "18",
         "18",
         "11761"
        ],
        [
         "19",
         "19",
         "12377"
        ],
        [
         "20",
         "20",
         "11763"
        ],
        [
         "21",
         "21",
         "10499"
        ],
        [
         "22",
         "22",
         "8453"
        ],
        [
         "23",
         "23",
         "5990"
        ]
       ],
       "shape": {
        "columns": 2,
        "rows": 24
       }
      },
      "text/html": [
       "<div>\n",
       "<style scoped>\n",
       "    .dataframe tbody tr th:only-of-type {\n",
       "        vertical-align: middle;\n",
       "    }\n",
       "\n",
       "    .dataframe tbody tr th {\n",
       "        vertical-align: top;\n",
       "    }\n",
       "\n",
       "    .dataframe thead th {\n",
       "        text-align: right;\n",
       "    }\n",
       "</style>\n",
       "<table border=\"1\" class=\"dataframe\">\n",
       "  <thead>\n",
       "    <tr style=\"text-align: right;\">\n",
       "      <th></th>\n",
       "      <th>OrderHour</th>\n",
       "      <th>TotalOrders</th>\n",
       "    </tr>\n",
       "  </thead>\n",
       "  <tbody>\n",
       "    <tr>\n",
       "      <th>0</th>\n",
       "      <td>0</td>\n",
       "      <td>3748</td>\n",
       "    </tr>\n",
       "    <tr>\n",
       "      <th>1</th>\n",
       "      <td>1</td>\n",
       "      <td>2246</td>\n",
       "    </tr>\n",
       "    <tr>\n",
       "      <th>2</th>\n",
       "      <td>2</td>\n",
       "      <td>1189</td>\n",
       "    </tr>\n",
       "    <tr>\n",
       "      <th>3</th>\n",
       "      <td>3</td>\n",
       "      <td>804</td>\n",
       "    </tr>\n",
       "    <tr>\n",
       "      <th>4</th>\n",
       "      <td>4</td>\n",
       "      <td>810</td>\n",
       "    </tr>\n",
       "    <tr>\n",
       "      <th>5</th>\n",
       "      <td>5</td>\n",
       "      <td>1258</td>\n",
       "    </tr>\n",
       "    <tr>\n",
       "      <th>6</th>\n",
       "      <td>6</td>\n",
       "      <td>2375</td>\n",
       "    </tr>\n",
       "    <tr>\n",
       "      <th>7</th>\n",
       "      <td>7</td>\n",
       "      <td>3836</td>\n",
       "    </tr>\n",
       "    <tr>\n",
       "      <th>8</th>\n",
       "      <td>8</td>\n",
       "      <td>6036</td>\n",
       "    </tr>\n",
       "    <tr>\n",
       "      <th>9</th>\n",
       "      <td>9</td>\n",
       "      <td>8404</td>\n",
       "    </tr>\n",
       "    <tr>\n",
       "      <th>10</th>\n",
       "      <td>10</td>\n",
       "      <td>10492</td>\n",
       "    </tr>\n",
       "    <tr>\n",
       "      <th>11</th>\n",
       "      <td>11</td>\n",
       "      <td>11882</td>\n",
       "    </tr>\n",
       "    <tr>\n",
       "      <th>12</th>\n",
       "      <td>12</td>\n",
       "      <td>12082</td>\n",
       "    </tr>\n",
       "    <tr>\n",
       "      <th>13</th>\n",
       "      <td>13</td>\n",
       "      <td>11682</td>\n",
       "    </tr>\n",
       "    <tr>\n",
       "      <th>14</th>\n",
       "      <td>14</td>\n",
       "      <td>10522</td>\n",
       "    </tr>\n",
       "    <tr>\n",
       "      <th>15</th>\n",
       "      <td>15</td>\n",
       "      <td>9761</td>\n",
       "    </tr>\n",
       "    <tr>\n",
       "      <th>16</th>\n",
       "      <td>16</td>\n",
       "      <td>9960</td>\n",
       "    </tr>\n",
       "    <tr>\n",
       "      <th>17</th>\n",
       "      <td>17</td>\n",
       "      <td>10476</td>\n",
       "    </tr>\n",
       "    <tr>\n",
       "      <th>18</th>\n",
       "      <td>18</td>\n",
       "      <td>11761</td>\n",
       "    </tr>\n",
       "    <tr>\n",
       "      <th>19</th>\n",
       "      <td>19</td>\n",
       "      <td>12377</td>\n",
       "    </tr>\n",
       "    <tr>\n",
       "      <th>20</th>\n",
       "      <td>20</td>\n",
       "      <td>11763</td>\n",
       "    </tr>\n",
       "    <tr>\n",
       "      <th>21</th>\n",
       "      <td>21</td>\n",
       "      <td>10499</td>\n",
       "    </tr>\n",
       "    <tr>\n",
       "      <th>22</th>\n",
       "      <td>22</td>\n",
       "      <td>8453</td>\n",
       "    </tr>\n",
       "    <tr>\n",
       "      <th>23</th>\n",
       "      <td>23</td>\n",
       "      <td>5990</td>\n",
       "    </tr>\n",
       "  </tbody>\n",
       "</table>\n",
       "</div>"
      ],
      "text/plain": [
       "    OrderHour  TotalOrders\n",
       "0           0         3748\n",
       "1           1         2246\n",
       "2           2         1189\n",
       "3           3          804\n",
       "4           4          810\n",
       "5           5         1258\n",
       "6           6         2375\n",
       "7           7         3836\n",
       "8           8         6036\n",
       "9           9         8404\n",
       "10         10        10492\n",
       "11         11        11882\n",
       "12         12        12082\n",
       "13         13        11682\n",
       "14         14        10522\n",
       "15         15         9761\n",
       "16         16         9960\n",
       "17         17        10476\n",
       "18         18        11761\n",
       "19         19        12377\n",
       "20         20        11763\n",
       "21         21        10499\n",
       "22         22         8453\n",
       "23         23         5990"
      ]
     },
     "execution_count": 92,
     "metadata": {},
     "output_type": "execute_result"
    }
   ],
   "source": [
    "hourly_df = hourly_summary.toPandas()\n",
    "hourly_df"
   ]
  },
  {
   "cell_type": "code",
   "execution_count": 102,
   "metadata": {},
   "outputs": [
    {
     "data": {
      "image/png": "[encoded data removed]",
      "text/plain": [
       "<Figure size 1000x600 with 1 Axes>"
      ]
     },
     "metadata": {},
     "output_type": "display_data"
    }
   ],
   "source": [
    "plt.figure(figsize=(10, 6))\n",
    "plt.ticklabel_format(useOffset=False, style=\"plain\")\n",
    "sns.set_theme(style=\"whitegrid\")\n",
    "sns.barplot(x=\"OrderHour\", y=\"TotalOrders\", data=hourly_df, palette=\"flare\").set_title(\"Total Orders by Hour in 2019\")\n",
    "plt.xlabel(\"Hour\")\n",
    "plt.ylabel(\"Total Orders\")\n",
    "plt.show()"
   ]
  },
  {
   "cell_type": "markdown",
   "metadata": {},
   "source": [
    "### Identify the products often sold together in New York state"
   ]
  },
  {
   "cell_type": "code",
   "execution_count": 103,
   "metadata": {},
   "outputs": [
    {
     "name": "stdout",
     "output_type": "stream",
     "text": [
      "+-------+--------------------------+--------+------+-------------------+-----------------------------------------+-------------+-----+-----------+\n",
      "|OrderID|Product                   |Quantity|Price |OrderDate          |StoreAddress                             |City         |State|ReportMonth|\n",
      "+-------+--------------------------+--------+------+-------------------+-----------------------------------------+-------------+-----+-----------+\n",
      "|295665 |Macbook Pro Laptop        |1       |1700.0|2019-12-30 00:01:00|136 Church St, New York City, NY 10001   |New York City|NY   |12         |\n",
      "|295666 |LG Washing Machine        |1       |600.0 |2019-12-29 07:03:00|562 2nd St, New York City, NY 10001      |New York City|NY   |12         |\n",
      "|295667 |USB-C Charging Cable      |1       |11.95 |2019-12-12 18:21:00|277 Main St, New York City, NY 10001     |New York City|NY   |12         |\n",
      "|295670 |AA Batteries (4-pack)     |1       |3.84  |2019-12-31 22:58:00|200 Jefferson St, New York City, NY 10001|New York City|NY   |12         |\n",
      "|295698 |Vareebadd Phone           |1       |400.0 |2019-12-13 14:32:00|175 1st St, New York City, NY 10001      |New York City|NY   |12         |\n",
      "|295698 |USB-C Charging Cable      |2       |11.95 |2019-12-13 14:32:00|175 1st St, New York City, NY 10001      |New York City|NY   |12         |\n",
      "|295700 |Bose SoundSport Headphones|1       |99.99 |2019-12-25 19:02:00|363 Hickory St, New York City, NY 10001  |New York City|NY   |12         |\n",
      "|295704 |Wired Headphones          |1       |11.99 |2019-12-12 00:20:00|457 8th St, New York City, NY 10001      |New York City|NY   |12         |\n",
      "|295705 |Wired Headphones          |1       |11.99 |2019-12-25 10:41:00|133 Jackson St, New York City, NY 10001  |New York City|NY   |12         |\n",
      "|295712 |Macbook Pro Laptop        |1       |1700.0|2019-12-10 20:02:00|331 Madison St, New York City, NY 10001  |New York City|NY   |12         |\n",
      "+-------+--------------------------+--------+------+-------------------+-----------------------------------------+-------------+-----+-----------+\n",
      "only showing top 10 rows\n",
      "\n"
     ]
    },
    {
     "data": {
      "text/plain": [
       "24866"
      ]
     },
     "execution_count": 103,
     "metadata": {},
     "output_type": "execute_result"
    }
   ],
   "source": [
    "ny_sales_df = sales_data_2019_df.filter(col(\"State\") == \"NY\")\n",
    "               \n",
    "ny_sales_df.show(10, truncate=False)\n",
    "ny_sales_df.count()"
   ]
  },
  {
   "cell_type": "code",
   "execution_count": 106,
   "metadata": {},
   "outputs": [],
   "source": [
    "ny_sales_df = (sales_data_2019_df.groupBy(\"OrderID\", \"State\")\n",
    "                             .agg(collect_list(\"Product\").alias(\"ProductList\"))\n",
    "                             .where(col(\"State\") == \"NY\"))"
   ]
  },
  {
   "cell_type": "code",
   "execution_count": 108,
   "metadata": {},
   "outputs": [
    {
     "name": "stdout",
     "output_type": "stream",
     "text": [
      "+-------+-----+-----------------------------------+\n",
      "|OrderID|State|ProductList                        |\n",
      "+-------+-----+-----------------------------------+\n",
      "|141264 |NY   |[Apple Airpods Headphones]         |\n",
      "|141268 |NY   |[AA Batteries (4-pack)]            |\n",
      "|141272 |NY   |[AAA Batteries (4-pack)]           |\n",
      "|141278 |NY   |[Lightning Charging Cable]         |\n",
      "|141282 |NY   |[Vareebadd Phone]                  |\n",
      "|141301 |NY   |[Apple Airpods Headphones]         |\n",
      "|141314 |NY   |[Macbook Pro Laptop]               |\n",
      "|141317 |NY   |[27in FHD Monitor]                 |\n",
      "|141323 |NY   |[USB-C Charging Cable]             |\n",
      "|141343 |NY   |[Bose SoundSport Headphones]       |\n",
      "|141349 |NY   |[Lightning Charging Cable]         |\n",
      "|141353 |NY   |[USB-C Charging Cable]             |\n",
      "|141365 |NY   |[Vareebadd Phone, Wired Headphones]|\n",
      "|141386 |NY   |[Lightning Charging Cable]         |\n",
      "|141390 |NY   |[Wired Headphones]                 |\n",
      "|141391 |NY   |[Bose SoundSport Headphones]       |\n",
      "|141397 |NY   |[Lightning Charging Cable]         |\n",
      "|141400 |NY   |[Lightning Charging Cable]         |\n",
      "|141411 |NY   |[Wired Headphones]                 |\n",
      "|141414 |NY   |[Google Phone]                     |\n",
      "+-------+-----+-----------------------------------+\n",
      "only showing top 20 rows\n",
      "\n"
     ]
    }
   ],
   "source": [
    "ny_sales_df.show(truncate=False)"
   ]
  },
  {
   "cell_type": "code",
   "execution_count": 109,
   "metadata": {},
   "outputs": [],
   "source": [
    "ny_sales_df = ny_sales_df.withColumn(\"ProductListSize\", size(col(\"ProductList\")))"
   ]
  },
  {
   "cell_type": "code",
   "execution_count": 110,
   "metadata": {},
   "outputs": [
    {
     "name": "stdout",
     "output_type": "stream",
     "text": [
      "+-------+-----+----------------------------------------------------+---------------+\n",
      "|OrderID|State|ProductList                                         |ProductListSize|\n",
      "+-------+-----+----------------------------------------------------+---------------+\n",
      "|158102 |NY   |[20in Monitor, AA Batteries (4-pack)]               |2              |\n",
      "|266247 |NY   |[20in Monitor, AA Batteries (4-pack)]               |2              |\n",
      "|194762 |NY   |[20in Monitor, AAA Batteries (4-pack)]              |2              |\n",
      "|234956 |NY   |[20in Monitor, Apple Airpods Headphones]            |2              |\n",
      "|256131 |NY   |[20in Monitor, Apple Airpods Headphones]            |2              |\n",
      "|179885 |NY   |[20in Monitor, Bose SoundSport Headphones]          |2              |\n",
      "|161337 |NY   |[20in Monitor, Lightning Charging Cable]            |2              |\n",
      "|277895 |NY   |[20in Monitor, USB-C Charging Cable]                |2              |\n",
      "|185451 |NY   |[20in Monitor, USB-C Charging Cable]                |2              |\n",
      "|306527 |NY   |[20in Monitor, Wired Headphones]                    |2              |\n",
      "|145026 |NY   |[20in Monitor, Wired Headphones]                    |2              |\n",
      "|172241 |NY   |[20in Monitor, Wired Headphones]                    |2              |\n",
      "|253929 |NY   |[27in 4K Gaming Monitor, 20in Monitor]              |2              |\n",
      "|241182 |NY   |[27in 4K Gaming Monitor, 27in 4K Gaming Monitor]    |2              |\n",
      "|208645 |NY   |[27in 4K Gaming Monitor, 27in FHD Monitor]          |2              |\n",
      "|261941 |NY   |[27in 4K Gaming Monitor, 34in Ultrawide Monitor]    |2              |\n",
      "|274748 |NY   |[27in 4K Gaming Monitor, AAA Batteries (4-pack)]    |2              |\n",
      "|180515 |NY   |[27in 4K Gaming Monitor, Apple Airpods Headphones]  |2              |\n",
      "|225494 |NY   |[27in 4K Gaming Monitor, Bose SoundSport Headphones]|2              |\n",
      "|171094 |NY   |[27in 4K Gaming Monitor, Flatscreen TV]             |2              |\n",
      "+-------+-----+----------------------------------------------------+---------------+\n",
      "only showing top 20 rows\n",
      "\n"
     ]
    }
   ],
   "source": [
    "(ny_sales_df.filter(col(\"ProductListSize\") > 1)\n",
    "            .orderBy(\"ProductList\")).show(truncate=False)"
   ]
  },
  {
   "cell_type": "code",
   "execution_count": 111,
   "metadata": {},
   "outputs": [
    {
     "name": "stdout",
     "output_type": "stream",
     "text": [
      "+------------------------------------------------------------+-----+\n",
      "|ProductList                                                 |count|\n",
      "+------------------------------------------------------------+-----+\n",
      "|[iPhone, Lightning Charging Cable]                          |126  |\n",
      "|[Google Phone, USB-C Charging Cable]                        |124  |\n",
      "|[Google Phone, Wired Headphones]                            |52   |\n",
      "|[Vareebadd Phone, USB-C Charging Cable]                     |49   |\n",
      "|[iPhone, Wired Headphones]                                  |46   |\n",
      "|[iPhone, Apple Airpods Headphones]                          |43   |\n",
      "|[Google Phone, Bose SoundSport Headphones]                  |23   |\n",
      "|[Vareebadd Phone, Wired Headphones]                         |17   |\n",
      "|[Apple Airpods Headphones, Wired Headphones]                |12   |\n",
      "|[Google Phone, USB-C Charging Cable, Wired Headphones]      |11   |\n",
      "|[AA Batteries (4-pack), Apple Airpods Headphones]           |10   |\n",
      "|[Lightning Charging Cable, AAA Batteries (4-pack)]          |9    |\n",
      "|[AA Batteries (4-pack), AAA Batteries (4-pack)]             |9    |\n",
      "|[iPhone, Lightning Charging Cable, Apple Airpods Headphones]|8    |\n",
      "|[Lightning Charging Cable, AA Batteries (4-pack)]           |8    |\n",
      "|[Wired Headphones, USB-C Charging Cable]                    |8    |\n",
      "|[AA Batteries (4-pack), Lightning Charging Cable]           |8    |\n",
      "|[Lightning Charging Cable, USB-C Charging Cable]            |8    |\n",
      "|[AAA Batteries (4-pack), Lightning Charging Cable]          |7    |\n",
      "|[Bose SoundSport Headphones, AAA Batteries (4-pack)]        |7    |\n",
      "+------------------------------------------------------------+-----+\n",
      "only showing top 20 rows\n",
      "\n"
     ]
    }
   ],
   "source": [
    "(ny_sales_df.filter(col(\"ProductListSize\") > 1)\n",
    "            .groupBy(\"ProductList\")\n",
    "            .count()\n",
    "            .orderBy(\"count\", ascending=False)).show(truncate=False)"
   ]
  },
  {
   "cell_type": "code",
   "execution_count": 112,
   "metadata": {},
   "outputs": [],
   "source": [
    "# Stop the SparkSession\n",
    "spark.stop()"
   ]
  },
  {
   "cell_type": "code",
   "execution_count": null,
   "metadata": {},
   "outputs": [],
   "source": []
  }
 ],
 "metadata": {
  "kernelspec": {
   "display_name": "python39",
   "language": "python",
   "name": "python3"
  },
  "language_info": {
   "codemirror_mode": {
    "name": "ipython",
    "version": 3
   },
   "file_extension": ".py",
   "mimetype": "text/x-python",
   "name": "python",
   "nbconvert_exporter": "python",
   "pygments_lexer": "ipython3",
   "version": "3.9.13"
  }
 },
 "nbformat": 4,
 "nbformat_minor": 2
}
